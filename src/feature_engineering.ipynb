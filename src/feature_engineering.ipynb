{
    "cells": [
        {
            "cell_type": "markdown",
            "source": [
                "## Preparation"
            ],
            "metadata": {}
        },
        {
            "cell_type": "code",
            "execution_count": 1,
            "source": [
                "import pandas as pd\r\n",
                "import numpy as np\r\n",
                "\r\n",
                "import matplotlib.pyplot as plt\r\n",
                "pd.set_option('max_rows', 300)\r\n",
                "pd.set_option('max_columns', 300)\r\n",
                "\r\n",
                "import os\r\n",
                "import glob"
            ],
            "outputs": [],
            "metadata": {}
        },
        {
            "cell_type": "markdown",
            "source": [
                "## data"
            ],
            "metadata": {}
        },
        {
            "cell_type": "code",
            "execution_count": 2,
            "source": [
                "data_dir = '../input/'"
            ],
            "outputs": [],
            "metadata": {}
        },
        {
            "cell_type": "code",
            "execution_count": 3,
            "source": [
                "test = pd.read_csv('../input/test.csv')\r\n",
                "train = pd.read_csv('../input/train.csv')\r\n",
                "\r\n",
                "train[\"row_id\"] = train[\"stock_id\"].astype(str)+\"-\"+train[\"time_id\"].astype(str)\r\n",
                "test[\"row_id\"] = test[\"stock_id\"].astype(str)+\"-\"+test[\"time_id\"].astype(str)"
            ],
            "outputs": [],
            "metadata": {}
        },
        {
            "cell_type": "markdown",
            "source": [
                "### book_train.parquet  \r\n",
                "オーダーbookデータは予約状況  \r\n",
                "この値段まで下がってきたら、買う  \r\n",
                "上がってきたら売るみたいな予約情報"
            ],
            "metadata": {}
        },
        {
            "cell_type": "markdown",
            "source": [
                "### trade_train.parque\r\n",
                "リアルタイムで実際に取引された量  \r\n",
                "買い手がこの値段でこの数量買い、売り手がこの値段でこの数量売ったなど  \r\n"
            ],
            "metadata": {}
        },
        {
            "cell_type": "markdown",
            "source": [
                "stock_id : 株の銘柄（どの株か）  \r\n",
                "time_id : どの時間の情報かのid (submissionファイルのtime_idと連動しています)  \r\n",
                "seconds_in_bucket : time_idの中で、0からスタートして何秒後か。たぶん予測するのは、10分のtotalなので、seconds_in_bucketは、最大600 secのはず  \r\n",
                "bid_price1,2 : 株の買値の希望値の１番目と２番目 ※　(Normalized prices of the most/second most competitive buy level. だから、正確には、１番と２番目に正規化されたレベルの買値。\r\n",
                "→買値の希望値をみんな出しているけど、それの正規化したときに一番多い値と２番目に多い値と推測。以下askも逆の現象。)  \r\n",
                "\r\n",
                "ask_price1,2 : 株の売り値の希望値  \r\n",
                "bid_size1,2 : 買うのを希望している側の１番目と２番目の株式数  \r\n",
                "ask_size1,2 : 売るのを希望している側の１番目と２番目の株式数  "
            ],
            "metadata": {}
        },
        {
            "cell_type": "code",
            "execution_count": 4,
            "source": [
                "# book_example = pd.read_parquet('../input/book_train.parquet/stock_id=1')\r\n",
                "# book_example\r\n"
            ],
            "outputs": [],
            "metadata": {}
        },
        {
            "cell_type": "markdown",
            "source": [
                "## Functions for preprocess"
            ],
            "metadata": {}
        },
        {
            "cell_type": "code",
            "execution_count": 5,
            "source": [
                "def calc_wap1(df):\r\n",
                "    wap = (df[\"bid_price1\"]*df[\"ask_size1\"]+df[\"ask_price1\"]*df[\"bid_size1\"])/(df[\"bid_size1\"]+df[\"ask_size1\"])\r\n",
                "    return wap"
            ],
            "outputs": [],
            "metadata": {}
        },
        {
            "cell_type": "code",
            "execution_count": 6,
            "source": [
                "def calc_wap2(df):\r\n",
                "    wap = (df[\"bid_price2\"]*df[\"ask_size2\"]+df[\"ask_price2\"]*df[\"bid_size2\"])/(df[\"bid_size2\"]+df[\"ask_size2\"])\r\n",
                "    return wap"
            ],
            "outputs": [],
            "metadata": {}
        },
        {
            "cell_type": "code",
            "execution_count": 7,
            "source": [
                "def log_return(series):\r\n",
                "    return np.log(series).diff()\r\n",
                "\r\n",
                "# 1行目はNullになるので注意"
            ],
            "outputs": [],
            "metadata": {}
        },
        {
            "cell_type": "code",
            "execution_count": 8,
            "source": [
                "def realized_vocatility(series):\r\n",
                "    return np.sqrt(np.sum(series**2))\r\n",
                "    "
            ],
            "outputs": [],
            "metadata": {}
        },
        {
            "cell_type": "code",
            "execution_count": 9,
            "source": [
                "def count_unique(series):\r\n",
                "    return len(np.unique(series))"
            ],
            "outputs": [],
            "metadata": {}
        },
        {
            "cell_type": "markdown",
            "source": [
                "## Feature Engineering"
            ],
            "metadata": {}
        },
        {
            "cell_type": "code",
            "execution_count": 10,
            "source": [
                "stock = train.groupby(\"stock_id\")['target'].agg([\"mean\",\"median\",\"std\",\"count\",\"sum\"]).reset_index()\r\n",
                "time = train.groupby([\"time_id\"])[\"target\"].agg([\"mean\",\"median\",\"std\",\"count\",\"sum\"]).reset_index()\r\n",
                "# row = train.groupby([\"row_id\"])[\"target\"].agg([\"mean\",\"median\",\"std\",\"count\",\"sum\"]).reset_index()"
            ],
            "outputs": [],
            "metadata": {}
        },
        {
            "cell_type": "code",
            "execution_count": 11,
            "source": [
                "\r\n",
                "train_info = train.copy()\r\n",
                "train_info['stock_id_mean']     = train['stock_id'].map(dict(zip(stock['stock_id'], stock['mean'])))\r\n",
                "train_info['stock_id_median']   = train['stock_id'].map(dict(zip(stock['stock_id'], stock['median'])))\r\n",
                "train_info['stock_id_std']      = train['stock_id'].map(dict(zip(stock['stock_id'], stock['std'])))\r\n",
                "\r\n",
                "train_info['time_id_mean']      = train['time_id'].map(dict(zip(time['time_id'], time['mean'])))\r\n",
                "train_info['time_id_median']    = train['time_id'].map(dict(zip(time['time_id'], time['median'])))\r\n",
                "train_info['time_id_std']        = train['time_id'].map(dict(zip(time['time_id'], time['std'])))\r\n",
                "\r\n",
                "# train_info['row_id_mean']      = train['row_id'].map(dict(zip(row['row_id'], row['mean'])))\r\n",
                "# train_info['row_id_median']    = train['row_id'].map(dict(zip(row['row_id'], row['median'])))\r\n",
                "# train_info['row_id_std']        = train['row_id'].map(dict(zip(row['row_id'], row['std'])))\r\n"
            ],
            "outputs": [],
            "metadata": {}
        },
        {
            "cell_type": "code",
            "execution_count": 12,
            "source": [
                "book_train = pd.read_parquet(data_dir + \"book_train.parquet/stock_id=15\")\r\n",
                "book_train.head()"
            ],
            "outputs": [
                {
                    "output_type": "execute_result",
                    "data": {
                        "text/plain": [
                            "   time_id  seconds_in_bucket  bid_price1  ask_price1  bid_price2  ask_price2  \\\n",
                            "0        5                  0    0.999519    0.999839    0.999454    0.999904   \n",
                            "1        5                  1    0.999711    1.000225    0.999647    1.000289   \n",
                            "2        5                  2    0.999775    1.000225    0.999711    1.000289   \n",
                            "3        5                  3    0.999839    1.000225    0.999775    1.000289   \n",
                            "4        5                  4    0.999839    1.000225    0.999711    1.000289   \n",
                            "\n",
                            "   bid_size1  ask_size1  bid_size2  ask_size2  \n",
                            "0          2        166          2         12  \n",
                            "1        100         20        100         20  \n",
                            "2          1         20        400         20  \n",
                            "3        100         20          1         20  \n",
                            "4          1         20        400         20  "
                        ],
                        "text/html": [
                            "<div>\n",
                            "<style scoped>\n",
                            "    .dataframe tbody tr th:only-of-type {\n",
                            "        vertical-align: middle;\n",
                            "    }\n",
                            "\n",
                            "    .dataframe tbody tr th {\n",
                            "        vertical-align: top;\n",
                            "    }\n",
                            "\n",
                            "    .dataframe thead th {\n",
                            "        text-align: right;\n",
                            "    }\n",
                            "</style>\n",
                            "<table border=\"1\" class=\"dataframe\">\n",
                            "  <thead>\n",
                            "    <tr style=\"text-align: right;\">\n",
                            "      <th></th>\n",
                            "      <th>time_id</th>\n",
                            "      <th>seconds_in_bucket</th>\n",
                            "      <th>bid_price1</th>\n",
                            "      <th>ask_price1</th>\n",
                            "      <th>bid_price2</th>\n",
                            "      <th>ask_price2</th>\n",
                            "      <th>bid_size1</th>\n",
                            "      <th>ask_size1</th>\n",
                            "      <th>bid_size2</th>\n",
                            "      <th>ask_size2</th>\n",
                            "    </tr>\n",
                            "  </thead>\n",
                            "  <tbody>\n",
                            "    <tr>\n",
                            "      <th>0</th>\n",
                            "      <td>5</td>\n",
                            "      <td>0</td>\n",
                            "      <td>0.999519</td>\n",
                            "      <td>0.999839</td>\n",
                            "      <td>0.999454</td>\n",
                            "      <td>0.999904</td>\n",
                            "      <td>2</td>\n",
                            "      <td>166</td>\n",
                            "      <td>2</td>\n",
                            "      <td>12</td>\n",
                            "    </tr>\n",
                            "    <tr>\n",
                            "      <th>1</th>\n",
                            "      <td>5</td>\n",
                            "      <td>1</td>\n",
                            "      <td>0.999711</td>\n",
                            "      <td>1.000225</td>\n",
                            "      <td>0.999647</td>\n",
                            "      <td>1.000289</td>\n",
                            "      <td>100</td>\n",
                            "      <td>20</td>\n",
                            "      <td>100</td>\n",
                            "      <td>20</td>\n",
                            "    </tr>\n",
                            "    <tr>\n",
                            "      <th>2</th>\n",
                            "      <td>5</td>\n",
                            "      <td>2</td>\n",
                            "      <td>0.999775</td>\n",
                            "      <td>1.000225</td>\n",
                            "      <td>0.999711</td>\n",
                            "      <td>1.000289</td>\n",
                            "      <td>1</td>\n",
                            "      <td>20</td>\n",
                            "      <td>400</td>\n",
                            "      <td>20</td>\n",
                            "    </tr>\n",
                            "    <tr>\n",
                            "      <th>3</th>\n",
                            "      <td>5</td>\n",
                            "      <td>3</td>\n",
                            "      <td>0.999839</td>\n",
                            "      <td>1.000225</td>\n",
                            "      <td>0.999775</td>\n",
                            "      <td>1.000289</td>\n",
                            "      <td>100</td>\n",
                            "      <td>20</td>\n",
                            "      <td>1</td>\n",
                            "      <td>20</td>\n",
                            "    </tr>\n",
                            "    <tr>\n",
                            "      <th>4</th>\n",
                            "      <td>5</td>\n",
                            "      <td>4</td>\n",
                            "      <td>0.999839</td>\n",
                            "      <td>1.000225</td>\n",
                            "      <td>0.999711</td>\n",
                            "      <td>1.000289</td>\n",
                            "      <td>1</td>\n",
                            "      <td>20</td>\n",
                            "      <td>400</td>\n",
                            "      <td>20</td>\n",
                            "    </tr>\n",
                            "  </tbody>\n",
                            "</table>\n",
                            "</div>"
                        ]
                    },
                    "metadata": {},
                    "execution_count": 12
                }
            ],
            "metadata": {}
        }
    ],
    "metadata": {
        "orig_nbformat": 4,
        "language_info": {
            "name": "python",
            "version": "3.8.5",
            "mimetype": "text/x-python",
            "codemirror_mode": {
                "name": "ipython",
                "version": 3
            },
            "pygments_lexer": "ipython3",
            "nbconvert_exporter": "python",
            "file_extension": ".py"
        },
        "kernelspec": {
            "name": "python3",
            "display_name": "Python 3.8.5 64-bit ('myenv': venv)"
        },
        "interpreter": {
            "hash": "431296fa2f0819120513c52b446f97ccb1107e7a9eb7d97f9b4083c5b8b965a7"
        }
    },
    "nbformat": 4,
    "nbformat_minor": 2
}